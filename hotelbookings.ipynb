{
  "metadata": {
    "kernelspec": {
      "name": "python3",
      "display_name": "Python 3",
      "language": "python"
    },
    "language_info": {
      "name": "python",
      "version": "3.10.12",
      "mimetype": "text/x-python",
      "codemirror_mode": {
        "name": "ipython",
        "version": 3
      },
      "pygments_lexer": "ipython3",
      "nbconvert_exporter": "python",
      "file_extension": ".py"
    },
    "kaggle": {
      "accelerator": "none",
      "dataSources": [
        {
          "sourceId": 944030,
          "sourceType": "datasetVersion",
          "datasetId": 511638
        }
      ],
      "dockerImageVersionId": 30918,
      "isInternetEnabled": true,
      "language": "python",
      "sourceType": "notebook",
      "isGpuEnabled": false
    },
    "colab": {
      "name": "hotelbookings",
      "provenance": [],
      "include_colab_link": true
    }
  },
  "nbformat_minor": 0,
  "nbformat": 4,
  "cells": [
    {
      "cell_type": "markdown",
      "metadata": {
        "id": "view-in-github",
        "colab_type": "text"
      },
      "source": [
        "<a href=\"https://colab.research.google.com/github/sachinsaraff10/hotelbookings/blob/master/hotelbookings.ipynb\" target=\"_parent\"><img src=\"https://colab.research.google.com/assets/colab-badge.svg\" alt=\"Open In Colab\"/></a>"
      ]
    },
    {
      "source": [
        "# IMPORTANT: RUN THIS CELL IN ORDER TO IMPORT YOUR KAGGLE DATA SOURCES,\n",
        "# THEN FEEL FREE TO DELETE THIS CELL.\n",
        "# NOTE: THIS NOTEBOOK ENVIRONMENT DIFFERS FROM KAGGLE'S PYTHON\n",
        "# ENVIRONMENT SO THERE MAY BE MISSING LIBRARIES USED BY YOUR\n",
        "# NOTEBOOK.\n",
        "import kagglehub\n",
        "jessemostipak_hotel_booking_demand_path = kagglehub.dataset_download('jessemostipak/hotel-booking-demand')\n",
        "\n",
        "print('Data source import complete.')\n"
      ],
      "metadata": {
        "id": "PL-ybRrs5QT9"
      },
      "cell_type": "code",
      "outputs": [],
      "execution_count": null
    },
    {
      "cell_type": "code",
      "source": [
        "\n",
        "import numpy as np # linear algebra\n",
        "import pandas as pd # data processing, CSV file I/O (e.g. pd.read_csv)"
      ],
      "metadata": {
        "trusted": true,
        "execution": {
          "iopub.status.busy": "2025-03-26T09:05:30.248787Z",
          "iopub.execute_input": "2025-03-26T09:05:30.249109Z",
          "iopub.status.idle": "2025-03-26T09:05:30.253103Z",
          "shell.execute_reply.started": "2025-03-26T09:05:30.249085Z",
          "shell.execute_reply": "2025-03-26T09:05:30.252016Z"
        },
        "id": "iH54aW5k5QT-"
      },
      "outputs": [],
      "execution_count": null
    },
    {
      "cell_type": "code",
      "source": [
        "df2=pd.read_csv('/kaggle/input/hotel-booking-demand/hotel_bookings.csv')"
      ],
      "metadata": {
        "trusted": true,
        "execution": {
          "iopub.status.busy": "2025-03-26T09:05:30.254445Z",
          "iopub.execute_input": "2025-03-26T09:05:30.254828Z",
          "iopub.status.idle": "2025-03-26T09:05:30.619403Z",
          "shell.execute_reply.started": "2025-03-26T09:05:30.254774Z",
          "shell.execute_reply": "2025-03-26T09:05:30.61849Z"
        },
        "id": "34E3AccF5QT_"
      },
      "outputs": [],
      "execution_count": null
    },
    {
      "cell_type": "markdown",
      "source": [
        "Step 1: Checking for missing values and establishing which columns may need dropping based on NaN count\n"
      ],
      "metadata": {
        "id": "hcdAXseA5QUA"
      }
    },
    {
      "cell_type": "code",
      "source": [
        "nan_counts = df2.isna().sum()\n",
        "\n",
        "# Sort columns by the number of NaN values in descending order\n",
        "nan_counts_sorted = nan_counts.sort_values(ascending=False)\n",
        "df2.drop(columns=['company','agent'],inplace=True)\n",
        "df2.dropna(inplace=True)"
      ],
      "metadata": {
        "trusted": true,
        "execution": {
          "iopub.status.busy": "2025-03-26T09:05:30.621057Z",
          "iopub.execute_input": "2025-03-26T09:05:30.621328Z",
          "iopub.status.idle": "2025-03-26T09:05:30.793698Z",
          "shell.execute_reply.started": "2025-03-26T09:05:30.621304Z",
          "shell.execute_reply": "2025-03-26T09:05:30.792884Z"
        },
        "id": "ybOg6wKM5QUB"
      },
      "outputs": [],
      "execution_count": null
    },
    {
      "cell_type": "code",
      "source": [
        "df2.dtypes"
      ],
      "metadata": {
        "trusted": true,
        "execution": {
          "iopub.status.busy": "2025-03-26T09:05:30.795267Z",
          "iopub.execute_input": "2025-03-26T09:05:30.795648Z",
          "iopub.status.idle": "2025-03-26T09:05:30.802506Z",
          "shell.execute_reply.started": "2025-03-26T09:05:30.795592Z",
          "shell.execute_reply": "2025-03-26T09:05:30.801727Z"
        },
        "id": "0s92yuxn5QUB",
        "outputId": "a875cd7c-8d5a-4e7e-88b4-7d5379eb1afa"
      },
      "outputs": [
        {
          "execution_count": 28,
          "output_type": "execute_result",
          "data": {
            "text/plain": "hotel                              object\nis_canceled                         int64\nlead_time                           int64\narrival_date_year                   int64\narrival_date_month                 object\narrival_date_week_number            int64\narrival_date_day_of_month           int64\nstays_in_weekend_nights             int64\nstays_in_week_nights                int64\nadults                              int64\nchildren                          float64\nbabies                              int64\nmeal                               object\ncountry                            object\nmarket_segment                     object\ndistribution_channel               object\nis_repeated_guest                   int64\nprevious_cancellations              int64\nprevious_bookings_not_canceled      int64\nreserved_room_type                 object\nassigned_room_type                 object\nbooking_changes                     int64\ndeposit_type                       object\ndays_in_waiting_list                int64\ncustomer_type                      object\nadr                               float64\nrequired_car_parking_spaces         int64\ntotal_of_special_requests           int64\nreservation_status                 object\nreservation_status_date            object\ndtype: object"
          },
          "metadata": {}
        }
      ],
      "execution_count": null
    },
    {
      "cell_type": "markdown",
      "source": [
        "I drop irrelevent categorical and numerical variables"
      ],
      "metadata": {
        "id": "0qDinI-R5QUC"
      }
    },
    {
      "cell_type": "code",
      "source": [
        "cat_columns = df2.select_dtypes(include=['object']).columns\n",
        "cat_columns=cat_columns.drop(['hotel','country','meal','reservation_status_date','arrival_date_month','market_segment','distribution_channel'])\n",
        "df2.drop(columns=['lead_time','arrival_date_year','arrival_date_week_number','arrival_date_month',\n",
        "                 'stays_in_weekend_nights','stays_in_week_nights','adr'],inplace=True)"
      ],
      "metadata": {
        "trusted": true,
        "execution": {
          "iopub.status.busy": "2025-03-26T09:05:30.803358Z",
          "iopub.execute_input": "2025-03-26T09:05:30.803706Z",
          "iopub.status.idle": "2025-03-26T09:05:30.844346Z",
          "shell.execute_reply.started": "2025-03-26T09:05:30.80368Z",
          "shell.execute_reply": "2025-03-26T09:05:30.843423Z"
        },
        "id": "ILenTq5J5QUD"
      },
      "outputs": [],
      "execution_count": null
    },
    {
      "cell_type": "markdown",
      "source": [
        "One-hot encode categorical variables"
      ],
      "metadata": {
        "id": "8x9S-SUt5QUE"
      }
    },
    {
      "cell_type": "code",
      "source": [
        "X = pd.get_dummies(df2,columns=cat_columns,drop_first=True)"
      ],
      "metadata": {
        "trusted": true,
        "execution": {
          "iopub.status.busy": "2025-03-26T09:05:30.84539Z",
          "iopub.execute_input": "2025-03-26T09:05:30.845766Z",
          "iopub.status.idle": "2025-03-26T09:05:30.915998Z",
          "shell.execute_reply.started": "2025-03-26T09:05:30.845729Z",
          "shell.execute_reply": "2025-03-26T09:05:30.915081Z"
        },
        "id": "oS5F1I3q5QUE"
      },
      "outputs": [],
      "execution_count": null
    },
    {
      "cell_type": "code",
      "source": [
        "import seaborn as sns\n",
        "import matplotlib.pyplot as plt\n",
        "from matplotlib import pyplot\n",
        "from sklearn.model_selection import cross_val_predict\n",
        "from sklearn.metrics import confusion_matrix, classification_report, f1_score, precision_score, recall_score, roc_auc_score, roc_curve\n",
        "from sklearn.linear_model import LogisticRegression\n",
        "from sklearn.neighbors import KNeighborsClassifier\n",
        "from sklearn.svm import SVC\n",
        "from sklearn.ensemble import GradientBoostingClassifier\n",
        "from sklearn.tree import DecisionTreeClassifier\n",
        "from sklearn.ensemble import RandomForestClassifier\n",
        "from lightgbm import LGBMClassifier\n",
        "from sklearn.model_selection import train_test_split\n",
        "from sklearn import preprocessing\n",
        "from sklearn.metrics import accuracy_score,recall_score\n",
        "from sklearn.preprocessing import StandardScaler\n",
        "from xgboost import XGBClassifier\n",
        "from sklearn.model_selection import KFold\n",
        "from sklearn.model_selection import cross_val_score, GridSearchCV\n"
      ],
      "metadata": {
        "trusted": true,
        "execution": {
          "iopub.status.busy": "2025-03-26T09:05:30.91686Z",
          "iopub.execute_input": "2025-03-26T09:05:30.917167Z",
          "iopub.status.idle": "2025-03-26T09:05:30.922954Z",
          "shell.execute_reply.started": "2025-03-26T09:05:30.917133Z",
          "shell.execute_reply": "2025-03-26T09:05:30.921914Z"
        },
        "id": "6OAiPT6t5QUF"
      },
      "outputs": [],
      "execution_count": null
    },
    {
      "cell_type": "code",
      "source": [
        "X.drop(columns=['is_canceled'],inplace=True)\n",
        "y=df2.is_canceled"
      ],
      "metadata": {
        "trusted": true,
        "execution": {
          "iopub.status.busy": "2025-03-26T09:05:30.923929Z",
          "iopub.execute_input": "2025-03-26T09:05:30.924293Z",
          "iopub.status.idle": "2025-03-26T09:05:30.954974Z",
          "shell.execute_reply.started": "2025-03-26T09:05:30.924257Z",
          "shell.execute_reply": "2025-03-26T09:05:30.954087Z"
        },
        "id": "DuIbWO215QUF"
      },
      "outputs": [],
      "execution_count": null
    },
    {
      "cell_type": "code",
      "source": [
        "X.dtypes"
      ],
      "metadata": {
        "trusted": true,
        "execution": {
          "iopub.status.busy": "2025-03-26T09:05:30.958105Z",
          "iopub.execute_input": "2025-03-26T09:05:30.958385Z",
          "iopub.status.idle": "2025-03-26T09:05:30.96638Z",
          "shell.execute_reply.started": "2025-03-26T09:05:30.95836Z",
          "shell.execute_reply": "2025-03-26T09:05:30.965289Z"
        },
        "id": "AJ_cLRlQ5QUG",
        "outputId": "f895c986-bf62-4e5e-c8fa-4423fd2f75f6"
      },
      "outputs": [
        {
          "execution_count": 33,
          "output_type": "execute_result",
          "data": {
            "text/plain": "hotel                              object\narrival_date_day_of_month           int64\nadults                              int64\nchildren                          float64\nbabies                              int64\nmeal                               object\ncountry                            object\nmarket_segment                     object\ndistribution_channel               object\nis_repeated_guest                   int64\nprevious_cancellations              int64\nprevious_bookings_not_canceled      int64\nbooking_changes                     int64\ndays_in_waiting_list                int64\nrequired_car_parking_spaces         int64\ntotal_of_special_requests           int64\nreservation_status_date            object\nreserved_room_type_B                 bool\nreserved_room_type_C                 bool\nreserved_room_type_D                 bool\nreserved_room_type_E                 bool\nreserved_room_type_F                 bool\nreserved_room_type_G                 bool\nreserved_room_type_H                 bool\nreserved_room_type_L                 bool\nreserved_room_type_P                 bool\nassigned_room_type_B                 bool\nassigned_room_type_C                 bool\nassigned_room_type_D                 bool\nassigned_room_type_E                 bool\nassigned_room_type_F                 bool\nassigned_room_type_G                 bool\nassigned_room_type_H                 bool\nassigned_room_type_I                 bool\nassigned_room_type_K                 bool\nassigned_room_type_L                 bool\nassigned_room_type_P                 bool\ndeposit_type_Non Refund              bool\ndeposit_type_Refundable              bool\ncustomer_type_Group                  bool\ncustomer_type_Transient              bool\ncustomer_type_Transient-Party        bool\nreservation_status_Check-Out         bool\nreservation_status_No-Show           bool\ndtype: object"
          },
          "metadata": {}
        }
      ],
      "execution_count": null
    },
    {
      "cell_type": "markdown",
      "source": [
        "Splitting data into train and test sets"
      ],
      "metadata": {
        "id": "6B5MgCX15QUH"
      }
    },
    {
      "cell_type": "code",
      "source": [
        "\n",
        "X_train, X_test, y_train, y_test = train_test_split(X, y, test_size=0.2, random_state=42)"
      ],
      "metadata": {
        "trusted": true,
        "execution": {
          "iopub.status.busy": "2025-03-26T09:05:30.967879Z",
          "iopub.execute_input": "2025-03-26T09:05:30.968187Z",
          "iopub.status.idle": "2025-03-26T09:05:31.017664Z",
          "shell.execute_reply.started": "2025-03-26T09:05:30.96816Z",
          "shell.execute_reply": "2025-03-26T09:05:31.016754Z"
        },
        "id": "2lGkVB8G5QUH"
      },
      "outputs": [],
      "execution_count": null
    },
    {
      "cell_type": "markdown",
      "source": [
        "Scaling numerical variables to use in logistic regression"
      ],
      "metadata": {
        "id": "9N3fC5q15QUH"
      }
    },
    {
      "cell_type": "code",
      "source": [
        "scaler = StandardScaler()\n",
        "X_train_scaled = scaler.fit_transform(X_train.select_dtypes(include='number'))\n",
        "X_test_scaled = scaler.fit_transform(X_test.select_dtypes(include='number'))\n",
        "X_train_scaled = pd.DataFrame(X_train_scaled,columns=X_train.select_dtypes(include='number').columns,index=X_train.index)\n",
        "X_test_scaled = pd.DataFrame(X_test_scaled,columns=X_test.select_dtypes(include='number').columns,index=X_test.index)"
      ],
      "metadata": {
        "trusted": true,
        "execution": {
          "iopub.status.busy": "2025-03-26T09:05:31.018715Z",
          "iopub.execute_input": "2025-03-26T09:05:31.019004Z",
          "iopub.status.idle": "2025-03-26T09:05:31.078739Z",
          "shell.execute_reply.started": "2025-03-26T09:05:31.018976Z",
          "shell.execute_reply": "2025-03-26T09:05:31.077915Z"
        },
        "id": "Rtbg8aAC5QUH"
      },
      "outputs": [],
      "execution_count": null
    },
    {
      "cell_type": "markdown",
      "source": [
        "Grouping together one-hot encoded variables"
      ],
      "metadata": {
        "id": "my3UwW_n5QUH"
      }
    },
    {
      "cell_type": "code",
      "source": [
        "bool_cols=X_train.select_dtypes(include='bool').columns"
      ],
      "metadata": {
        "trusted": true,
        "execution": {
          "iopub.status.busy": "2025-03-26T09:05:31.079506Z",
          "iopub.execute_input": "2025-03-26T09:05:31.079808Z",
          "iopub.status.idle": "2025-03-26T09:05:31.086171Z",
          "shell.execute_reply.started": "2025-03-26T09:05:31.079784Z",
          "shell.execute_reply": "2025-03-26T09:05:31.085259Z"
        },
        "id": "6Aomi3Ah5QUI"
      },
      "outputs": [],
      "execution_count": null
    },
    {
      "cell_type": "code",
      "source": [
        "final_train_df = pd.concat([X_train_scaled,X_train[bool_cols]],axis=1)\n",
        "final_test_df = pd.concat([X_test_scaled,X_test[bool_cols]],axis=1)"
      ],
      "metadata": {
        "trusted": true,
        "execution": {
          "iopub.status.busy": "2025-03-26T09:05:31.087001Z",
          "iopub.execute_input": "2025-03-26T09:05:31.087307Z",
          "iopub.status.idle": "2025-03-26T09:05:31.116092Z",
          "shell.execute_reply.started": "2025-03-26T09:05:31.087271Z",
          "shell.execute_reply": "2025-03-26T09:05:31.115227Z"
        },
        "id": "6Z6I3wzA5QUI"
      },
      "outputs": [],
      "execution_count": null
    },
    {
      "cell_type": "code",
      "source": [
        "X_train[bool_cols]"
      ],
      "metadata": {
        "trusted": true,
        "execution": {
          "iopub.status.busy": "2025-03-26T09:05:31.117087Z",
          "iopub.execute_input": "2025-03-26T09:05:31.1174Z",
          "iopub.status.idle": "2025-03-26T09:05:31.158579Z",
          "shell.execute_reply.started": "2025-03-26T09:05:31.117363Z",
          "shell.execute_reply": "2025-03-26T09:05:31.157585Z"
        },
        "id": "P17oFTj-5QUI",
        "outputId": "3faa7871-4221-41d2-ff46-a0655b60cf85"
      },
      "outputs": [
        {
          "execution_count": 38,
          "output_type": "execute_result",
          "data": {
            "text/plain": "        reserved_room_type_B  reserved_room_type_C  reserved_room_type_D  \\\n2499                   False                 False                 False   \n36906                  False                 False                 False   \n16363                  False                  True                 False   \n25818                  False                 False                  True   \n33552                  False                 False                 False   \n...                      ...                   ...                   ...   \n77310                  False                 False                  True   \n110760                 False                 False                  True   \n104186                 False                 False                  True   \n861                    False                 False                 False   \n16246                  False                 False                 False   \n\n        reserved_room_type_E  reserved_room_type_F  reserved_room_type_G  \\\n2499                   False                 False                 False   \n36906                  False                 False                 False   \n16363                  False                 False                 False   \n25818                  False                 False                 False   \n33552                  False                 False                 False   \n...                      ...                   ...                   ...   \n77310                  False                 False                 False   \n110760                 False                 False                 False   \n104186                 False                 False                 False   \n861                    False                 False                 False   \n16246                  False                 False                 False   \n\n        reserved_room_type_H  reserved_room_type_L  reserved_room_type_P  \\\n2499                   False                 False                 False   \n36906                  False                 False                 False   \n16363                  False                 False                 False   \n25818                  False                 False                 False   \n33552                  False                 False                 False   \n...                      ...                   ...                   ...   \n77310                  False                 False                 False   \n110760                 False                 False                 False   \n104186                 False                 False                 False   \n861                    False                 False                 False   \n16246                  False                 False                 False   \n\n        assigned_room_type_B  ...  assigned_room_type_K  assigned_room_type_L  \\\n2499                   False  ...                 False                 False   \n36906                  False  ...                 False                 False   \n16363                  False  ...                 False                 False   \n25818                  False  ...                 False                 False   \n33552                  False  ...                 False                 False   \n...                      ...  ...                   ...                   ...   \n77310                  False  ...                 False                 False   \n110760                 False  ...                 False                 False   \n104186                 False  ...                 False                 False   \n861                    False  ...                 False                 False   \n16246                  False  ...                 False                 False   \n\n        assigned_room_type_P  deposit_type_Non Refund  \\\n2499                   False                    False   \n36906                  False                    False   \n16363                  False                    False   \n25818                  False                    False   \n33552                  False                    False   \n...                      ...                      ...   \n77310                  False                    False   \n110760                 False                    False   \n104186                 False                    False   \n861                    False                    False   \n16246                  False                    False   \n\n        deposit_type_Refundable  customer_type_Group  customer_type_Transient  \\\n2499                      False                False                    False   \n36906                     False                False                     True   \n16363                     False                False                     True   \n25818                     False                False                     True   \n33552                     False                False                     True   \n...                         ...                  ...                      ...   \n77310                     False                False                     True   \n110760                    False                False                     True   \n104186                    False                False                     True   \n861                       False                False                     True   \n16246                     False                False                     True   \n\n        customer_type_Transient-Party  reservation_status_Check-Out  \\\n2499                             True                          True   \n36906                           False                          True   \n16363                           False                          True   \n25818                           False                          True   \n33552                           False                          True   \n...                               ...                           ...   \n77310                           False                          True   \n110760                          False                          True   \n104186                          False                          True   \n861                             False                         False   \n16246                           False                          True   \n\n        reservation_status_No-Show  \n2499                         False  \n36906                        False  \n16363                        False  \n25818                        False  \n33552                        False  \n...                            ...  \n77310                        False  \n110760                       False  \n104186                       False  \n861                          False  \n16246                        False  \n\n[95118 rows x 27 columns]",
            "text/html": "<div>\n<style scoped>\n    .dataframe tbody tr th:only-of-type {\n        vertical-align: middle;\n    }\n\n    .dataframe tbody tr th {\n        vertical-align: top;\n    }\n\n    .dataframe thead th {\n        text-align: right;\n    }\n</style>\n<table border=\"1\" class=\"dataframe\">\n  <thead>\n    <tr style=\"text-align: right;\">\n      <th></th>\n      <th>reserved_room_type_B</th>\n      <th>reserved_room_type_C</th>\n      <th>reserved_room_type_D</th>\n      <th>reserved_room_type_E</th>\n      <th>reserved_room_type_F</th>\n      <th>reserved_room_type_G</th>\n      <th>reserved_room_type_H</th>\n      <th>reserved_room_type_L</th>\n      <th>reserved_room_type_P</th>\n      <th>assigned_room_type_B</th>\n      <th>...</th>\n      <th>assigned_room_type_K</th>\n      <th>assigned_room_type_L</th>\n      <th>assigned_room_type_P</th>\n      <th>deposit_type_Non Refund</th>\n      <th>deposit_type_Refundable</th>\n      <th>customer_type_Group</th>\n      <th>customer_type_Transient</th>\n      <th>customer_type_Transient-Party</th>\n      <th>reservation_status_Check-Out</th>\n      <th>reservation_status_No-Show</th>\n    </tr>\n  </thead>\n  <tbody>\n    <tr>\n      <th>2499</th>\n      <td>False</td>\n      <td>False</td>\n      <td>False</td>\n      <td>False</td>\n      <td>False</td>\n      <td>False</td>\n      <td>False</td>\n      <td>False</td>\n      <td>False</td>\n      <td>False</td>\n      <td>...</td>\n      <td>False</td>\n      <td>False</td>\n      <td>False</td>\n      <td>False</td>\n      <td>False</td>\n      <td>False</td>\n      <td>False</td>\n      <td>True</td>\n      <td>True</td>\n      <td>False</td>\n    </tr>\n    <tr>\n      <th>36906</th>\n      <td>False</td>\n      <td>False</td>\n      <td>False</td>\n      <td>False</td>\n      <td>False</td>\n      <td>False</td>\n      <td>False</td>\n      <td>False</td>\n      <td>False</td>\n      <td>False</td>\n      <td>...</td>\n      <td>False</td>\n      <td>False</td>\n      <td>False</td>\n      <td>False</td>\n      <td>False</td>\n      <td>False</td>\n      <td>True</td>\n      <td>False</td>\n      <td>True</td>\n      <td>False</td>\n    </tr>\n    <tr>\n      <th>16363</th>\n      <td>False</td>\n      <td>True</td>\n      <td>False</td>\n      <td>False</td>\n      <td>False</td>\n      <td>False</td>\n      <td>False</td>\n      <td>False</td>\n      <td>False</td>\n      <td>False</td>\n      <td>...</td>\n      <td>False</td>\n      <td>False</td>\n      <td>False</td>\n      <td>False</td>\n      <td>False</td>\n      <td>False</td>\n      <td>True</td>\n      <td>False</td>\n      <td>True</td>\n      <td>False</td>\n    </tr>\n    <tr>\n      <th>25818</th>\n      <td>False</td>\n      <td>False</td>\n      <td>True</td>\n      <td>False</td>\n      <td>False</td>\n      <td>False</td>\n      <td>False</td>\n      <td>False</td>\n      <td>False</td>\n      <td>False</td>\n      <td>...</td>\n      <td>False</td>\n      <td>False</td>\n      <td>False</td>\n      <td>False</td>\n      <td>False</td>\n      <td>False</td>\n      <td>True</td>\n      <td>False</td>\n      <td>True</td>\n      <td>False</td>\n    </tr>\n    <tr>\n      <th>33552</th>\n      <td>False</td>\n      <td>False</td>\n      <td>False</td>\n      <td>False</td>\n      <td>False</td>\n      <td>False</td>\n      <td>False</td>\n      <td>False</td>\n      <td>False</td>\n      <td>False</td>\n      <td>...</td>\n      <td>False</td>\n      <td>False</td>\n      <td>False</td>\n      <td>False</td>\n      <td>False</td>\n      <td>False</td>\n      <td>True</td>\n      <td>False</td>\n      <td>True</td>\n      <td>False</td>\n    </tr>\n    <tr>\n      <th>...</th>\n      <td>...</td>\n      <td>...</td>\n      <td>...</td>\n      <td>...</td>\n      <td>...</td>\n      <td>...</td>\n      <td>...</td>\n      <td>...</td>\n      <td>...</td>\n      <td>...</td>\n      <td>...</td>\n      <td>...</td>\n      <td>...</td>\n      <td>...</td>\n      <td>...</td>\n      <td>...</td>\n      <td>...</td>\n      <td>...</td>\n      <td>...</td>\n      <td>...</td>\n      <td>...</td>\n    </tr>\n    <tr>\n      <th>77310</th>\n      <td>False</td>\n      <td>False</td>\n      <td>True</td>\n      <td>False</td>\n      <td>False</td>\n      <td>False</td>\n      <td>False</td>\n      <td>False</td>\n      <td>False</td>\n      <td>False</td>\n      <td>...</td>\n      <td>False</td>\n      <td>False</td>\n      <td>False</td>\n      <td>False</td>\n      <td>False</td>\n      <td>False</td>\n      <td>True</td>\n      <td>False</td>\n      <td>True</td>\n      <td>False</td>\n    </tr>\n    <tr>\n      <th>110760</th>\n      <td>False</td>\n      <td>False</td>\n      <td>True</td>\n      <td>False</td>\n      <td>False</td>\n      <td>False</td>\n      <td>False</td>\n      <td>False</td>\n      <td>False</td>\n      <td>False</td>\n      <td>...</td>\n      <td>False</td>\n      <td>False</td>\n      <td>False</td>\n      <td>False</td>\n      <td>False</td>\n      <td>False</td>\n      <td>True</td>\n      <td>False</td>\n      <td>True</td>\n      <td>False</td>\n    </tr>\n    <tr>\n      <th>104186</th>\n      <td>False</td>\n      <td>False</td>\n      <td>True</td>\n      <td>False</td>\n      <td>False</td>\n      <td>False</td>\n      <td>False</td>\n      <td>False</td>\n      <td>False</td>\n      <td>False</td>\n      <td>...</td>\n      <td>False</td>\n      <td>False</td>\n      <td>False</td>\n      <td>False</td>\n      <td>False</td>\n      <td>False</td>\n      <td>True</td>\n      <td>False</td>\n      <td>True</td>\n      <td>False</td>\n    </tr>\n    <tr>\n      <th>861</th>\n      <td>False</td>\n      <td>False</td>\n      <td>False</td>\n      <td>False</td>\n      <td>False</td>\n      <td>False</td>\n      <td>False</td>\n      <td>False</td>\n      <td>False</td>\n      <td>False</td>\n      <td>...</td>\n      <td>False</td>\n      <td>False</td>\n      <td>False</td>\n      <td>False</td>\n      <td>False</td>\n      <td>False</td>\n      <td>True</td>\n      <td>False</td>\n      <td>False</td>\n      <td>False</td>\n    </tr>\n    <tr>\n      <th>16246</th>\n      <td>False</td>\n      <td>False</td>\n      <td>False</td>\n      <td>False</td>\n      <td>False</td>\n      <td>False</td>\n      <td>False</td>\n      <td>False</td>\n      <td>False</td>\n      <td>False</td>\n      <td>...</td>\n      <td>False</td>\n      <td>False</td>\n      <td>False</td>\n      <td>False</td>\n      <td>False</td>\n      <td>False</td>\n      <td>True</td>\n      <td>False</td>\n      <td>True</td>\n      <td>False</td>\n    </tr>\n  </tbody>\n</table>\n<p>95118 rows × 27 columns</p>\n</div>"
          },
          "metadata": {}
        }
      ],
      "execution_count": null
    },
    {
      "cell_type": "code",
      "source": [
        "final_train_df.dtypes"
      ],
      "metadata": {
        "trusted": true,
        "execution": {
          "iopub.status.busy": "2025-03-26T09:05:31.159642Z",
          "iopub.execute_input": "2025-03-26T09:05:31.160005Z",
          "iopub.status.idle": "2025-03-26T09:05:31.167989Z",
          "shell.execute_reply.started": "2025-03-26T09:05:31.159969Z",
          "shell.execute_reply": "2025-03-26T09:05:31.166805Z"
        },
        "id": "QqXtMbGd5QUI",
        "outputId": "fead957c-1aca-45c8-ebc8-3ab5aabdbb73"
      },
      "outputs": [
        {
          "execution_count": 39,
          "output_type": "execute_result",
          "data": {
            "text/plain": "arrival_date_day_of_month         float64\nadults                            float64\nchildren                          float64\nbabies                            float64\nis_repeated_guest                 float64\nprevious_cancellations            float64\nprevious_bookings_not_canceled    float64\nbooking_changes                   float64\ndays_in_waiting_list              float64\nrequired_car_parking_spaces       float64\ntotal_of_special_requests         float64\nreserved_room_type_B                 bool\nreserved_room_type_C                 bool\nreserved_room_type_D                 bool\nreserved_room_type_E                 bool\nreserved_room_type_F                 bool\nreserved_room_type_G                 bool\nreserved_room_type_H                 bool\nreserved_room_type_L                 bool\nreserved_room_type_P                 bool\nassigned_room_type_B                 bool\nassigned_room_type_C                 bool\nassigned_room_type_D                 bool\nassigned_room_type_E                 bool\nassigned_room_type_F                 bool\nassigned_room_type_G                 bool\nassigned_room_type_H                 bool\nassigned_room_type_I                 bool\nassigned_room_type_K                 bool\nassigned_room_type_L                 bool\nassigned_room_type_P                 bool\ndeposit_type_Non Refund              bool\ndeposit_type_Refundable              bool\ncustomer_type_Group                  bool\ncustomer_type_Transient              bool\ncustomer_type_Transient-Party        bool\nreservation_status_Check-Out         bool\nreservation_status_No-Show           bool\ndtype: object"
          },
          "metadata": {}
        }
      ],
      "execution_count": null
    },
    {
      "cell_type": "code",
      "source": [
        "from sklearn.linear_model import LogisticRegression\n",
        "# Initialize the multinomial logistic regression model\n",
        "model = LogisticRegression(max_iter=100)\n",
        "\n",
        "# Train the model\n",
        "model.fit(final_train_df, y_train)\n",
        "\n",
        "# Make predictions\n",
        "predictions = model.predict(final_test_df)\n",
        "\n",
        "print(\"Predictions:\", predictions)"
      ],
      "metadata": {
        "trusted": true,
        "execution": {
          "iopub.status.busy": "2025-03-26T09:05:31.168959Z",
          "iopub.execute_input": "2025-03-26T09:05:31.169285Z",
          "iopub.status.idle": "2025-03-26T09:05:31.552996Z",
          "shell.execute_reply.started": "2025-03-26T09:05:31.169257Z",
          "shell.execute_reply": "2025-03-26T09:05:31.552046Z"
        },
        "id": "fI9qo44F5QUI",
        "outputId": "f327b2bd-6ae2-4807-9aec-6c478309176d"
      },
      "outputs": [
        {
          "name": "stdout",
          "text": "Predictions: [1 1 0 ... 0 1 0]\n",
          "output_type": "stream"
        }
      ],
      "execution_count": null
    },
    {
      "cell_type": "code",
      "source": [
        "from sklearn.metrics import accuracy_score, classification_report"
      ],
      "metadata": {
        "trusted": true,
        "execution": {
          "iopub.status.busy": "2025-03-26T09:05:31.553973Z",
          "iopub.execute_input": "2025-03-26T09:05:31.554324Z",
          "iopub.status.idle": "2025-03-26T09:05:31.558345Z",
          "shell.execute_reply.started": "2025-03-26T09:05:31.554289Z",
          "shell.execute_reply": "2025-03-26T09:05:31.557547Z"
        },
        "id": "F_7oz_BI5QUI"
      },
      "outputs": [],
      "execution_count": null
    },
    {
      "cell_type": "markdown",
      "source": [
        "Final accuracy results"
      ],
      "metadata": {
        "id": "OIFtg3BR5QUJ"
      }
    },
    {
      "cell_type": "code",
      "source": [
        "# Evaluate the model\n",
        "accuracy = accuracy_score(y_test, predictions)\n",
        "print(\"Accuracy:\", accuracy)"
      ],
      "metadata": {
        "trusted": true,
        "execution": {
          "iopub.status.busy": "2025-03-26T09:05:31.559287Z",
          "iopub.execute_input": "2025-03-26T09:05:31.559578Z",
          "iopub.status.idle": "2025-03-26T09:05:31.57861Z",
          "shell.execute_reply.started": "2025-03-26T09:05:31.559554Z",
          "shell.execute_reply": "2025-03-26T09:05:31.577693Z"
        },
        "id": "RQlZR5jC5QUJ",
        "outputId": "81a0f880-ac35-4e6f-fc6e-4e05baf781df"
      },
      "outputs": [
        {
          "name": "stdout",
          "text": "Accuracy: 1.0\n",
          "output_type": "stream"
        }
      ],
      "execution_count": null
    },
    {
      "cell_type": "code",
      "source": [
        "from sklearn.metrics import log_loss"
      ],
      "metadata": {
        "trusted": true,
        "execution": {
          "iopub.status.busy": "2025-03-26T09:05:31.579731Z",
          "iopub.execute_input": "2025-03-26T09:05:31.580009Z",
          "iopub.status.idle": "2025-03-26T09:05:31.589528Z",
          "shell.execute_reply.started": "2025-03-26T09:05:31.579984Z",
          "shell.execute_reply": "2025-03-26T09:05:31.588517Z"
        },
        "id": "VZ1rnjpn5QUJ"
      },
      "outputs": [],
      "execution_count": null
    },
    {
      "cell_type": "markdown",
      "source": [
        "Computing log-loss and cross-validating the data with other popular classification algorithms"
      ],
      "metadata": {
        "id": "MdJbvGTn5QUJ"
      }
    },
    {
      "cell_type": "code",
      "source": [
        "y_pred_proba = model.predict_proba(final_test_df)[:,1]\n",
        "score_ll = log_loss(y_test, y_pred_proba)"
      ],
      "metadata": {
        "trusted": true,
        "execution": {
          "iopub.status.busy": "2025-03-26T09:05:31.590496Z",
          "iopub.execute_input": "2025-03-26T09:05:31.59089Z",
          "iopub.status.idle": "2025-03-26T09:05:31.623543Z",
          "shell.execute_reply.started": "2025-03-26T09:05:31.590851Z",
          "shell.execute_reply": "2025-03-26T09:05:31.6223Z"
        },
        "id": "lnpdzrJv5QUJ"
      },
      "outputs": [],
      "execution_count": null
    },
    {
      "cell_type": "code",
      "source": [
        "score_ll"
      ],
      "metadata": {
        "trusted": true,
        "execution": {
          "iopub.status.busy": "2025-03-26T09:05:31.624694Z",
          "iopub.execute_input": "2025-03-26T09:05:31.625066Z",
          "iopub.status.idle": "2025-03-26T09:05:31.630969Z",
          "shell.execute_reply.started": "2025-03-26T09:05:31.62503Z",
          "shell.execute_reply": "2025-03-26T09:05:31.629805Z"
        },
        "id": "waugDL5M5QUJ",
        "outputId": "3fa13b83-3ebf-4752-8709-3679fca1402a"
      },
      "outputs": [
        {
          "execution_count": 45,
          "output_type": "execute_result",
          "data": {
            "text/plain": "0.0003268286238863165"
          },
          "metadata": {}
        }
      ],
      "execution_count": null
    },
    {
      "cell_type": "code",
      "source": [
        "X = X.select_dtypes(exclude=['object'])"
      ],
      "metadata": {
        "trusted": true,
        "execution": {
          "iopub.status.busy": "2025-03-26T09:05:31.631934Z",
          "iopub.execute_input": "2025-03-26T09:05:31.632202Z",
          "iopub.status.idle": "2025-03-26T09:05:31.653684Z",
          "shell.execute_reply.started": "2025-03-26T09:05:31.63218Z",
          "shell.execute_reply": "2025-03-26T09:05:31.65271Z"
        },
        "id": "TX5p712f5QUJ"
      },
      "outputs": [],
      "execution_count": null
    },
    {
      "cell_type": "code",
      "source": [
        "models = [('KNN', KNeighborsClassifier()),\n",
        "          ('Decisiontree', DecisionTreeClassifier(random_state=123456)),\n",
        "          ('RF', RandomForestClassifier(random_state=123456)),\n",
        "          ('GB', GradientBoostingClassifier(random_state = 12345)),\n",
        "          (\"XGBoost\", XGBClassifier(random_state=123456))]\n",
        "results = []\n",
        "names = []\n",
        "\n",
        "def crossvalidator(models,x):\n",
        "    name, model =models[x]\n",
        "    print(models[x])\n",
        "    kfold = KFold(n_splits=7)\n",
        "    cv_results = cross_val_score(model, X, y, cv=kfold)\n",
        "    results.append(cv_results)\n",
        "    names.append(name)\n",
        "    msg = \"%s: %f (%f)\" % (name, cv_results.mean(), cv_results.std())\n",
        "    print(msg)\n"
      ],
      "metadata": {
        "trusted": true,
        "execution": {
          "iopub.status.busy": "2025-03-26T09:40:57.654879Z",
          "iopub.execute_input": "2025-03-26T09:40:57.655267Z",
          "iopub.status.idle": "2025-03-26T09:40:57.661654Z",
          "shell.execute_reply.started": "2025-03-26T09:40:57.655231Z",
          "shell.execute_reply": "2025-03-26T09:40:57.660558Z"
        },
        "id": "iCvJPh5T5QUJ"
      },
      "outputs": [],
      "execution_count": null
    },
    {
      "cell_type": "code",
      "source": [
        "for _ in range(len(models)):\n",
        "    crossvalidator(models,len(results))"
      ],
      "metadata": {
        "trusted": true,
        "execution": {
          "iopub.status.busy": "2025-03-26T09:41:07.039267Z",
          "iopub.execute_input": "2025-03-26T09:41:07.039665Z",
          "iopub.status.idle": "2025-03-26T09:42:37.222219Z",
          "shell.execute_reply.started": "2025-03-26T09:41:07.039626Z",
          "shell.execute_reply": "2025-03-26T09:42:37.221179Z"
        },
        "id": "6HnNVwH05QUK",
        "outputId": "d3858b01-a865-492b-fb8c-221ce4caff86"
      },
      "outputs": [
        {
          "name": "stdout",
          "text": "('KNN', KNeighborsClassifier())\nKNN: 0.955425 (0.051509)\n('Decisiontree', DecisionTreeClassifier(random_state=123456))\nDecisiontree: 1.000000 (0.000000)\n('RF', RandomForestClassifier(random_state=123456))\nRF: 1.000000 (0.000000)\n('GB', GradientBoostingClassifier(random_state=12345))\nGB: 1.000000 (0.000000)\n('XGBoost', XGBClassifier(base_score=None, booster=None, callbacks=None,\n              colsample_bylevel=None, colsample_bynode=None,\n              colsample_bytree=None, device=None, early_stopping_rounds=None,\n              enable_categorical=False, eval_metric=None, feature_types=None,\n              gamma=None, grow_policy=None, importance_type=None,\n              interaction_constraints=None, learning_rate=None, max_bin=None,\n              max_cat_threshold=None, max_cat_to_onehot=None,\n              max_delta_step=None, max_depth=None, max_leaves=None,\n              min_child_weight=None, missing=nan, monotone_constraints=None,\n              multi_strategy=None, n_estimators=None, n_jobs=None,\n              num_parallel_tree=None, random_state=123456, ...))\nXGBoost: 1.000000 (0.000000)\n",
          "output_type": "stream"
        }
      ],
      "execution_count": null
    },
    {
      "cell_type": "code",
      "source": [
        "xgboost_mod = XGBClassifier(random_state=12345)\n",
        "xgboost_mod.fit(final_train_df, y_train)\n",
        "y_pred = xgboost_mod.predict(final_test_df)\n",
        "conf_mat = confusion_matrix(y_pred,y_test)\n",
        "print(\"True Positive : \", conf_mat[1, 1])\n",
        "print(\"True Negative : \", conf_mat[0, 0])\n",
        "print(\"False Positive: \", conf_mat[0, 1])\n",
        "print(\"False Negative: \", conf_mat[1, 0])"
      ],
      "metadata": {
        "trusted": true,
        "execution": {
          "iopub.status.busy": "2025-03-26T09:47:20.884054Z",
          "iopub.execute_input": "2025-03-26T09:47:20.884362Z",
          "iopub.status.idle": "2025-03-26T09:47:21.610824Z",
          "shell.execute_reply.started": "2025-03-26T09:47:20.884338Z",
          "shell.execute_reply": "2025-03-26T09:47:21.609794Z"
        },
        "id": "WNwr6AiT5QUK",
        "outputId": "aa5b3b2a-8708-4720-b159-e096b85d2c15"
      },
      "outputs": [
        {
          "name": "stdout",
          "text": "True Positive :  8929\nTrue Negative :  14851\nFalse Positive:  0\nFalse Negative:  0\n",
          "output_type": "stream"
        }
      ],
      "execution_count": null
    },
    {
      "cell_type": "code",
      "source": [
        "print(classification_report(xgboost_mod.predict(final_test_df),y_test))"
      ],
      "metadata": {
        "trusted": true,
        "execution": {
          "iopub.status.busy": "2025-03-26T09:50:14.251072Z",
          "iopub.execute_input": "2025-03-26T09:50:14.251515Z",
          "iopub.status.idle": "2025-03-26T09:50:14.37949Z",
          "shell.execute_reply.started": "2025-03-26T09:50:14.251474Z",
          "shell.execute_reply": "2025-03-26T09:50:14.378498Z"
        },
        "id": "crBkXUDv5QUK",
        "outputId": "b9fe4768-92d1-432f-c587-c1c252b46b73"
      },
      "outputs": [
        {
          "name": "stdout",
          "text": "              precision    recall  f1-score   support\n\n           0       1.00      1.00      1.00     14851\n           1       1.00      1.00      1.00      8929\n\n    accuracy                           1.00     23780\n   macro avg       1.00      1.00      1.00     23780\nweighted avg       1.00      1.00      1.00     23780\n\n",
          "output_type": "stream"
        }
      ],
      "execution_count": null
    },
    {
      "cell_type": "code",
      "source": [
        "KNN_mod = KNeighborsClassifier()\n",
        "KNN_mod.fit(final_train_df, y_train)\n",
        "y_pred = KNN_mod.predict(final_test_df)\n",
        "conf_mat = confusion_matrix(y_pred,y_test)\n",
        "print(\"True Positive : \", conf_mat[1, 1])\n",
        "print(\"True Negative : \", conf_mat[0, 0])\n",
        "print(\"False Positive: \", conf_mat[0, 1])\n",
        "print(\"False Negative: \", conf_mat[1, 0])"
      ],
      "metadata": {
        "trusted": true,
        "execution": {
          "iopub.status.busy": "2025-03-26T09:48:35.221588Z",
          "iopub.execute_input": "2025-03-26T09:48:35.221964Z",
          "iopub.status.idle": "2025-03-26T09:48:41.476777Z",
          "shell.execute_reply.started": "2025-03-26T09:48:35.221937Z",
          "shell.execute_reply": "2025-03-26T09:48:41.475479Z"
        },
        "id": "P0_WxM3s5QUK",
        "outputId": "8de6adbf-6dca-4e75-e55d-cc6536dbb5a9"
      },
      "outputs": [
        {
          "name": "stdout",
          "text": "True Positive :  8751\nTrue Negative :  14836\nFalse Positive:  178\nFalse Negative:  15\n",
          "output_type": "stream"
        }
      ],
      "execution_count": null
    },
    {
      "cell_type": "code",
      "source": [
        "print(classification_report(KNN_mod.predict(final_test_df),y_test))"
      ],
      "metadata": {
        "trusted": true,
        "execution": {
          "iopub.status.busy": "2025-03-26T09:50:31.809362Z",
          "iopub.execute_input": "2025-03-26T09:50:31.809719Z",
          "iopub.status.idle": "2025-03-26T09:50:38.676679Z",
          "shell.execute_reply.started": "2025-03-26T09:50:31.80969Z",
          "shell.execute_reply": "2025-03-26T09:50:38.675297Z"
        },
        "id": "ahlnDwCi5QUK",
        "outputId": "72ad3943-b649-4a78-8467-6d3596bd4f0c"
      },
      "outputs": [
        {
          "name": "stdout",
          "text": "              precision    recall  f1-score   support\n\n           0       1.00      0.99      0.99     15014\n           1       0.98      1.00      0.99      8766\n\n    accuracy                           0.99     23780\n   macro avg       0.99      0.99      0.99     23780\nweighted avg       0.99      0.99      0.99     23780\n\n",
          "output_type": "stream"
        }
      ],
      "execution_count": null
    },
    {
      "cell_type": "code",
      "source": [
        "RF_mod = RandomForestClassifier(random_state=12345)\n",
        "RF_mod.fit(final_train_df, y_train)\n",
        "y_pred = RF_mod.predict(final_test_df)\n",
        "conf_mat = confusion_matrix(y_pred,y_test)\n",
        "print(\"True Positive : \", conf_mat[1, 1])\n",
        "print(\"True Negative : \", conf_mat[0, 0])\n",
        "print(\"False Positive: \", conf_mat[0, 1])\n",
        "print(\"False Negative: \", conf_mat[1, 0])"
      ],
      "metadata": {
        "trusted": true,
        "execution": {
          "iopub.status.busy": "2025-03-26T09:58:38.534281Z",
          "iopub.execute_input": "2025-03-26T09:58:38.534698Z",
          "iopub.status.idle": "2025-03-26T09:58:41.870499Z",
          "shell.execute_reply.started": "2025-03-26T09:58:38.534661Z",
          "shell.execute_reply": "2025-03-26T09:58:41.869501Z"
        },
        "id": "S0VfLkZF5QUK",
        "outputId": "b74709ad-eeab-4331-fe4a-0c2bcbd0d981"
      },
      "outputs": [
        {
          "name": "stdout",
          "text": "True Positive :  8929\nTrue Negative :  14851\nFalse Positive:  0\nFalse Negative:  0\n",
          "output_type": "stream"
        }
      ],
      "execution_count": null
    },
    {
      "cell_type": "code",
      "source": [
        "print(classification_report(RF_mod.predict(final_test_df),y_test))"
      ],
      "metadata": {
        "trusted": true,
        "execution": {
          "iopub.status.busy": "2025-03-26T09:59:00.290148Z",
          "iopub.execute_input": "2025-03-26T09:59:00.290453Z",
          "iopub.status.idle": "2025-03-26T09:59:00.522405Z",
          "shell.execute_reply.started": "2025-03-26T09:59:00.290428Z",
          "shell.execute_reply": "2025-03-26T09:59:00.52151Z"
        },
        "id": "Xzsj_GPw5QUL",
        "outputId": "1cb77a2a-18cc-4588-8636-e467e042d089"
      },
      "outputs": [
        {
          "name": "stdout",
          "text": "              precision    recall  f1-score   support\n\n           0       1.00      1.00      1.00     14851\n           1       1.00      1.00      1.00      8929\n\n    accuracy                           1.00     23780\n   macro avg       1.00      1.00      1.00     23780\nweighted avg       1.00      1.00      1.00     23780\n\n",
          "output_type": "stream"
        }
      ],
      "execution_count": null
    },
    {
      "cell_type": "code",
      "source": [
        "DT_mod = DecisionTreeClassifier(random_state=12345)\n",
        "DT_mod.fit(final_train_df, y_train)\n",
        "y_pred = d_mod.predict(final_test_df)\n",
        "conf_mat = confusion_matrix(y_pred,y_test)\n",
        "print(\"True Positive : \", conf_mat[1, 1])\n",
        "print(\"True Negative : \", conf_mat[0, 0])\n",
        "print(\"False Positive: \", conf_mat[0, 1])\n",
        "print(\"False Negative: \", conf_mat[1, 0])"
      ],
      "metadata": {
        "trusted": true,
        "id": "jbbHhFIH5QUO"
      },
      "outputs": [],
      "execution_count": null
    }
  ]
}